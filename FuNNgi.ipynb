{
  "nbformat": 4,
  "nbformat_minor": 0,
  "metadata": {
    "colab": {
      "provenance": [],
      "collapsed_sections": [],
      "include_colab_link": true
    },
    "kernelspec": {
      "name": "python3",
      "display_name": "Python 3"
    },
    "accelerator": "GPU"
  },
  "cells": [
    {
      "cell_type": "markdown",
      "metadata": {
        "id": "view-in-github",
        "colab_type": "text"
      },
      "source": [
        "<a href=\"https://colab.research.google.com/github/lokijoki/Dyscomycetes/blob/Dyscomycetes_main/FuNNgi.ipynb\" target=\"_parent\"><img src=\"https://colab.research.google.com/assets/colab-badge.svg\" alt=\"Open In Colab\"/></a>"
      ]
    },
    {
      "cell_type": "markdown",
      "metadata": {
        "id": "Ah7dy1kFL2H9"
      },
      "source": [
        "Учебный курс \"[Программирование глубоких нейронных сетей на Python](https://openedu.ru/course/urfu/PYDNN/)\"."
      ]
    },
    {
      "cell_type": "code",
      "metadata": {
        "id": "qrfd6FzSLrE2"
      },
      "source": [
        "from tensorflow.keras.models import Sequential #библиотека с открытым исходным кодом, помогающая разрабатывать и обучать модели машинного обучения\n",
        "from tensorflow.keras.layers import Dense, Dropout\n",
        "from tensorflow.keras import utils\n",
        "#from tensorflow.keras.preprocessing import image\n",
        "import numpy as np\n",
        "import matplotlib.pyplot as plt\n",
        "#from PIL import Image\n",
        "%matplotlib inline \n",
        "import pandas as pd"
      ],
      "execution_count": null,
      "outputs": []
    },
    {
      "cell_type": "markdown",
      "metadata": {
        "id": "xiurjCBVMDTG"
      },
      "source": [
        "## Подготовка данных для обучения сети"
      ]
    },
    {
      "cell_type": "markdown",
      "metadata": {
        "id": "1yDF75Cx8VPz"
      },
      "source": [
        "**Формирование кадров тестовых и тренировочных данных из входных файлов**"
      ]
    },
    {
      "cell_type": "code",
      "source": [
        "Traindf=pd.read_excel('Train.xlsx')\n",
        "Testdf=pd.read_excel('Test.xlsx')"
      ],
      "metadata": {
        "id": "XA7zAZEQntiA"
      },
      "execution_count": null,
      "outputs": []
    },
    {
      "cell_type": "code",
      "source": [
        "Traindf.head()"
      ],
      "metadata": {
        "colab": {
          "base_uri": "https://localhost:8080/",
          "height": 236
        },
        "id": "W7AS8KLCxpiv",
        "outputId": "ad0b3814-96e8-4b57-cd77-1bebf19eb11d"
      },
      "execution_count": null,
      "outputs": [
        {
          "output_type": "execute_result",
          "data": {
            "text/plain": [
              "   Unnamed: 0  N  0         1         2         3         4         5    6  \\\n",
              "0           0  0  0  0.000056  0.001174  0.000391  0.001006  0.000764  0.0   \n",
              "1           2  2  1  0.000000  0.000000  0.000000  0.000000  0.000000  0.0   \n",
              "2           4  4  1  0.000000  0.000155  0.000621  0.000000  0.000544  0.0   \n",
              "3           6  6  1  0.000000  0.000000  0.000000  0.000000  0.000000  0.0   \n",
              "4           8  8  1  0.000000  0.000000  0.000000  0.000000  0.000000  0.0   \n",
              "\n",
              "         7  ...  118  119  120  121  122  123  124  125  126  127  \n",
              "0  0.00013  ...    0    0    0    0    0    0    0    0    0    0  \n",
              "1  0.00000  ...    0    0    0    0    0    0    0    0    0    0  \n",
              "2  0.00000  ...    0    0    0    0    0    0    0    0    0    0  \n",
              "3  0.00000  ...    0    0    0    0    0    0    0    0    0    0  \n",
              "4  0.00000  ...    0    0    0    0    0    0    0    0    0    0  \n",
              "\n",
              "[5 rows x 130 columns]"
            ],
            "text/html": [
              "\n",
              "  <div id=\"df-b82c4574-e464-4f33-b2cb-1312d929af59\">\n",
              "    <div class=\"colab-df-container\">\n",
              "      <div>\n",
              "<style scoped>\n",
              "    .dataframe tbody tr th:only-of-type {\n",
              "        vertical-align: middle;\n",
              "    }\n",
              "\n",
              "    .dataframe tbody tr th {\n",
              "        vertical-align: top;\n",
              "    }\n",
              "\n",
              "    .dataframe thead th {\n",
              "        text-align: right;\n",
              "    }\n",
              "</style>\n",
              "<table border=\"1\" class=\"dataframe\">\n",
              "  <thead>\n",
              "    <tr style=\"text-align: right;\">\n",
              "      <th></th>\n",
              "      <th>Unnamed: 0</th>\n",
              "      <th>N</th>\n",
              "      <th>0</th>\n",
              "      <th>1</th>\n",
              "      <th>2</th>\n",
              "      <th>3</th>\n",
              "      <th>4</th>\n",
              "      <th>5</th>\n",
              "      <th>6</th>\n",
              "      <th>7</th>\n",
              "      <th>...</th>\n",
              "      <th>118</th>\n",
              "      <th>119</th>\n",
              "      <th>120</th>\n",
              "      <th>121</th>\n",
              "      <th>122</th>\n",
              "      <th>123</th>\n",
              "      <th>124</th>\n",
              "      <th>125</th>\n",
              "      <th>126</th>\n",
              "      <th>127</th>\n",
              "    </tr>\n",
              "  </thead>\n",
              "  <tbody>\n",
              "    <tr>\n",
              "      <th>0</th>\n",
              "      <td>0</td>\n",
              "      <td>0</td>\n",
              "      <td>0</td>\n",
              "      <td>0.000056</td>\n",
              "      <td>0.001174</td>\n",
              "      <td>0.000391</td>\n",
              "      <td>0.001006</td>\n",
              "      <td>0.000764</td>\n",
              "      <td>0.0</td>\n",
              "      <td>0.00013</td>\n",
              "      <td>...</td>\n",
              "      <td>0</td>\n",
              "      <td>0</td>\n",
              "      <td>0</td>\n",
              "      <td>0</td>\n",
              "      <td>0</td>\n",
              "      <td>0</td>\n",
              "      <td>0</td>\n",
              "      <td>0</td>\n",
              "      <td>0</td>\n",
              "      <td>0</td>\n",
              "    </tr>\n",
              "    <tr>\n",
              "      <th>1</th>\n",
              "      <td>2</td>\n",
              "      <td>2</td>\n",
              "      <td>1</td>\n",
              "      <td>0.000000</td>\n",
              "      <td>0.000000</td>\n",
              "      <td>0.000000</td>\n",
              "      <td>0.000000</td>\n",
              "      <td>0.000000</td>\n",
              "      <td>0.0</td>\n",
              "      <td>0.00000</td>\n",
              "      <td>...</td>\n",
              "      <td>0</td>\n",
              "      <td>0</td>\n",
              "      <td>0</td>\n",
              "      <td>0</td>\n",
              "      <td>0</td>\n",
              "      <td>0</td>\n",
              "      <td>0</td>\n",
              "      <td>0</td>\n",
              "      <td>0</td>\n",
              "      <td>0</td>\n",
              "    </tr>\n",
              "    <tr>\n",
              "      <th>2</th>\n",
              "      <td>4</td>\n",
              "      <td>4</td>\n",
              "      <td>1</td>\n",
              "      <td>0.000000</td>\n",
              "      <td>0.000155</td>\n",
              "      <td>0.000621</td>\n",
              "      <td>0.000000</td>\n",
              "      <td>0.000544</td>\n",
              "      <td>0.0</td>\n",
              "      <td>0.00000</td>\n",
              "      <td>...</td>\n",
              "      <td>0</td>\n",
              "      <td>0</td>\n",
              "      <td>0</td>\n",
              "      <td>0</td>\n",
              "      <td>0</td>\n",
              "      <td>0</td>\n",
              "      <td>0</td>\n",
              "      <td>0</td>\n",
              "      <td>0</td>\n",
              "      <td>0</td>\n",
              "    </tr>\n",
              "    <tr>\n",
              "      <th>3</th>\n",
              "      <td>6</td>\n",
              "      <td>6</td>\n",
              "      <td>1</td>\n",
              "      <td>0.000000</td>\n",
              "      <td>0.000000</td>\n",
              "      <td>0.000000</td>\n",
              "      <td>0.000000</td>\n",
              "      <td>0.000000</td>\n",
              "      <td>0.0</td>\n",
              "      <td>0.00000</td>\n",
              "      <td>...</td>\n",
              "      <td>0</td>\n",
              "      <td>0</td>\n",
              "      <td>0</td>\n",
              "      <td>0</td>\n",
              "      <td>0</td>\n",
              "      <td>0</td>\n",
              "      <td>0</td>\n",
              "      <td>0</td>\n",
              "      <td>0</td>\n",
              "      <td>0</td>\n",
              "    </tr>\n",
              "    <tr>\n",
              "      <th>4</th>\n",
              "      <td>8</td>\n",
              "      <td>8</td>\n",
              "      <td>1</td>\n",
              "      <td>0.000000</td>\n",
              "      <td>0.000000</td>\n",
              "      <td>0.000000</td>\n",
              "      <td>0.000000</td>\n",
              "      <td>0.000000</td>\n",
              "      <td>0.0</td>\n",
              "      <td>0.00000</td>\n",
              "      <td>...</td>\n",
              "      <td>0</td>\n",
              "      <td>0</td>\n",
              "      <td>0</td>\n",
              "      <td>0</td>\n",
              "      <td>0</td>\n",
              "      <td>0</td>\n",
              "      <td>0</td>\n",
              "      <td>0</td>\n",
              "      <td>0</td>\n",
              "      <td>0</td>\n",
              "    </tr>\n",
              "  </tbody>\n",
              "</table>\n",
              "<p>5 rows × 130 columns</p>\n",
              "</div>\n",
              "      <button class=\"colab-df-convert\" onclick=\"convertToInteractive('df-b82c4574-e464-4f33-b2cb-1312d929af59')\"\n",
              "              title=\"Convert this dataframe to an interactive table.\"\n",
              "              style=\"display:none;\">\n",
              "        \n",
              "  <svg xmlns=\"http://www.w3.org/2000/svg\" height=\"24px\"viewBox=\"0 0 24 24\"\n",
              "       width=\"24px\">\n",
              "    <path d=\"M0 0h24v24H0V0z\" fill=\"none\"/>\n",
              "    <path d=\"M18.56 5.44l.94 2.06.94-2.06 2.06-.94-2.06-.94-.94-2.06-.94 2.06-2.06.94zm-11 1L8.5 8.5l.94-2.06 2.06-.94-2.06-.94L8.5 2.5l-.94 2.06-2.06.94zm10 10l.94 2.06.94-2.06 2.06-.94-2.06-.94-.94-2.06-.94 2.06-2.06.94z\"/><path d=\"M17.41 7.96l-1.37-1.37c-.4-.4-.92-.59-1.43-.59-.52 0-1.04.2-1.43.59L10.3 9.45l-7.72 7.72c-.78.78-.78 2.05 0 2.83L4 21.41c.39.39.9.59 1.41.59.51 0 1.02-.2 1.41-.59l7.78-7.78 2.81-2.81c.8-.78.8-2.07 0-2.86zM5.41 20L4 18.59l7.72-7.72 1.47 1.35L5.41 20z\"/>\n",
              "  </svg>\n",
              "      </button>\n",
              "      \n",
              "  <style>\n",
              "    .colab-df-container {\n",
              "      display:flex;\n",
              "      flex-wrap:wrap;\n",
              "      gap: 12px;\n",
              "    }\n",
              "\n",
              "    .colab-df-convert {\n",
              "      background-color: #E8F0FE;\n",
              "      border: none;\n",
              "      border-radius: 50%;\n",
              "      cursor: pointer;\n",
              "      display: none;\n",
              "      fill: #1967D2;\n",
              "      height: 32px;\n",
              "      padding: 0 0 0 0;\n",
              "      width: 32px;\n",
              "    }\n",
              "\n",
              "    .colab-df-convert:hover {\n",
              "      background-color: #E2EBFA;\n",
              "      box-shadow: 0px 1px 2px rgba(60, 64, 67, 0.3), 0px 1px 3px 1px rgba(60, 64, 67, 0.15);\n",
              "      fill: #174EA6;\n",
              "    }\n",
              "\n",
              "    [theme=dark] .colab-df-convert {\n",
              "      background-color: #3B4455;\n",
              "      fill: #D2E3FC;\n",
              "    }\n",
              "\n",
              "    [theme=dark] .colab-df-convert:hover {\n",
              "      background-color: #434B5C;\n",
              "      box-shadow: 0px 1px 3px 1px rgba(0, 0, 0, 0.15);\n",
              "      filter: drop-shadow(0px 1px 2px rgba(0, 0, 0, 0.3));\n",
              "      fill: #FFFFFF;\n",
              "    }\n",
              "  </style>\n",
              "\n",
              "      <script>\n",
              "        const buttonEl =\n",
              "          document.querySelector('#df-b82c4574-e464-4f33-b2cb-1312d929af59 button.colab-df-convert');\n",
              "        buttonEl.style.display =\n",
              "          google.colab.kernel.accessAllowed ? 'block' : 'none';\n",
              "\n",
              "        async function convertToInteractive(key) {\n",
              "          const element = document.querySelector('#df-b82c4574-e464-4f33-b2cb-1312d929af59');\n",
              "          const dataTable =\n",
              "            await google.colab.kernel.invokeFunction('convertToInteractive',\n",
              "                                                     [key], {});\n",
              "          if (!dataTable) return;\n",
              "\n",
              "          const docLinkHtml = 'Like what you see? Visit the ' +\n",
              "            '<a target=\"_blank\" href=https://colab.research.google.com/notebooks/data_table.ipynb>data table notebook</a>'\n",
              "            + ' to learn more about interactive tables.';\n",
              "          element.innerHTML = '';\n",
              "          dataTable['output_type'] = 'display_data';\n",
              "          await google.colab.output.renderOutput(dataTable, element);\n",
              "          const docLink = document.createElement('div');\n",
              "          docLink.innerHTML = docLinkHtml;\n",
              "          element.appendChild(docLink);\n",
              "        }\n",
              "      </script>\n",
              "    </div>\n",
              "  </div>\n",
              "  "
            ]
          },
          "metadata": {},
          "execution_count": 3
        }
      ]
    },
    {
      "cell_type": "markdown",
      "source": [
        "**Подготовка гистограмм тренировочного и тестовых наборов**"
      ],
      "metadata": {
        "id": "DwDjsE5z8o0w"
      }
    },
    {
      "cell_type": "code",
      "source": [
        "TraindfX=Traindf.iloc[:,3:130] #выбрать все ряды, выбрать колонки с четвертой по 131 https://stackoverflow.com/questions/56311638/how-how-iloc-1-works-can-any-one-explain-1-params\n",
        "TestdfX=Testdf.iloc[:,3:130]\n",
        "TraindfX.head()\n",
        "x_train=TraindfX.to_numpy()\n",
        "x_test=TestdfX.to_numpy()"
      ],
      "metadata": {
        "id": "kfcoLlAinOLh"
      },
      "execution_count": null,
      "outputs": []
    },
    {
      "cell_type": "code",
      "source": [
        "x_train[2]"
      ],
      "metadata": {
        "colab": {
          "base_uri": "https://localhost:8080/"
        },
        "id": "czumS7gA4Hn9",
        "outputId": "b80baae2-b65d-4e8e-fbe4-32f901a94bcc"
      },
      "execution_count": null,
      "outputs": [
        {
          "output_type": "execute_result",
          "data": {
            "text/plain": [
              "array([0.00000000e+00, 1.55327742e-04, 6.21310966e-04, 0.00000000e+00,\n",
              "       5.43647095e-04, 0.00000000e+00, 0.00000000e+00, 7.76638708e-05,\n",
              "       0.00000000e+00, 0.00000000e+00, 0.00000000e+00, 2.32991612e-04,\n",
              "       0.00000000e+00, 0.00000000e+00, 0.00000000e+00, 0.00000000e+00,\n",
              "       0.00000000e+00, 0.00000000e+00, 0.00000000e+00, 1.55327742e-04,\n",
              "       0.00000000e+00, 1.32028580e-03, 0.00000000e+00, 0.00000000e+00,\n",
              "       0.00000000e+00, 0.00000000e+00, 5.43647095e-04, 0.00000000e+00,\n",
              "       0.00000000e+00, 0.00000000e+00, 0.00000000e+00, 1.55327742e-04,\n",
              "       0.00000000e+00, 0.00000000e+00, 6.83442063e-03, 0.00000000e+00,\n",
              "       0.00000000e+00, 4.65983225e-04, 3.10655483e-04, 0.00000000e+00,\n",
              "       0.00000000e+00, 1.94159677e-03, 2.32991612e-04, 0.00000000e+00,\n",
              "       2.34544890e-02, 6.98974837e-04, 5.43647095e-03, 1.21155638e-02,\n",
              "       1.26592109e-02, 2.74930103e-02, 4.35694315e-02, 1.52454178e-01,\n",
              "       1.54551103e-01, 2.62503883e-02, 3.33954644e-03, 3.49487418e-03,\n",
              "       1.22708916e-02, 1.00963032e-03, 1.55327742e-04, 4.73749612e-03,\n",
              "       1.16495806e-03, 3.10655483e-04, 1.55327742e-04, 3.88319354e-03,\n",
              "       1.47561354e-03, 0.00000000e+00, 1.39794967e-02, 7.76638708e-05,\n",
              "       0.00000000e+00, 3.88319354e-04, 0.00000000e+00, 2.95122709e-03,\n",
              "       0.00000000e+00, 0.00000000e+00, 0.00000000e+00, 0.00000000e+00,\n",
              "       6.98974837e-04, 0.00000000e+00, 0.00000000e+00, 4.81515999e-03,\n",
              "       0.00000000e+00, 0.00000000e+00, 1.55327742e-04, 1.08729419e-03,\n",
              "       0.00000000e+00, 0.00000000e+00, 1.94159677e-03, 0.00000000e+00,\n",
              "       0.00000000e+00, 0.00000000e+00, 0.00000000e+00, 0.00000000e+00,\n",
              "       0.00000000e+00, 0.00000000e+00, 0.00000000e+00, 0.00000000e+00,\n",
              "       0.00000000e+00, 0.00000000e+00, 0.00000000e+00, 0.00000000e+00,\n",
              "       0.00000000e+00, 0.00000000e+00, 0.00000000e+00, 0.00000000e+00,\n",
              "       0.00000000e+00, 0.00000000e+00, 0.00000000e+00, 0.00000000e+00,\n",
              "       0.00000000e+00, 0.00000000e+00, 0.00000000e+00, 0.00000000e+00,\n",
              "       0.00000000e+00, 0.00000000e+00, 0.00000000e+00, 0.00000000e+00,\n",
              "       0.00000000e+00, 0.00000000e+00, 0.00000000e+00, 0.00000000e+00,\n",
              "       0.00000000e+00, 0.00000000e+00, 0.00000000e+00, 0.00000000e+00,\n",
              "       0.00000000e+00, 0.00000000e+00, 0.00000000e+00])"
            ]
          },
          "metadata": {},
          "execution_count": 5
        }
      ]
    },
    {
      "cell_type": "markdown",
      "source": [
        "**Подготовка меток (гриб или нет) для тренировочного и тестовых наборов**"
      ],
      "metadata": {
        "id": "la6liMmo8JSF"
      }
    },
    {
      "cell_type": "code",
      "source": [
        "TraindfY=Traindf.iloc[:,2]\n",
        "TestdfY=Testdf.iloc[:,2]\n",
        "TraindfY.head()\n",
        "y_train=TraindfY.to_numpy()\n",
        "y_test=TestdfY.to_numpy()"
      ],
      "metadata": {
        "id": "nLWV_oAL0mG8"
      },
      "execution_count": null,
      "outputs": []
    },
    {
      "cell_type": "markdown",
      "source": [
        "**Количество меток в тренировочном наборе**"
      ],
      "metadata": {
        "id": "INjBpO-m7bip"
      }
    },
    {
      "cell_type": "code",
      "source": [
        "len(y_train)"
      ],
      "metadata": {
        "colab": {
          "base_uri": "https://localhost:8080/"
        },
        "id": "wBlaMYsh5it8",
        "outputId": "97e9eaa4-b06b-4b42-9863-4839092417f0"
      },
      "execution_count": null,
      "outputs": [
        {
          "output_type": "execute_result",
          "data": {
            "text/plain": [
              "25"
            ]
          },
          "metadata": {},
          "execution_count": 7
        }
      ]
    },
    {
      "cell_type": "code",
      "source": [
        "y_test"
      ],
      "metadata": {
        "colab": {
          "base_uri": "https://localhost:8080/"
        },
        "id": "onQpxAgOupC4",
        "outputId": "06b6f436-0749-4a02-ba0c-a03330a1b842"
      },
      "execution_count": null,
      "outputs": [
        {
          "output_type": "execute_result",
          "data": {
            "text/plain": [
              "array([1, 1, 1, 1, 0, 0, 0, 0, 0, 0, 0, 0, 0, 0, 0, 0, 0, 0, 0, 0, 0, 0,\n",
              "       0, 0, 0])"
            ]
          },
          "metadata": {},
          "execution_count": 8
        }
      ]
    },
    {
      "cell_type": "markdown",
      "metadata": {
        "id": "zqJ9GA1kJxBF"
      },
      "source": [
        "**Преобразование меток в формат one hot encoding**"
      ]
    },
    {
      "cell_type": "code",
      "metadata": {
        "id": "zQnasUyyJ3cG"
      },
      "source": [
        "y_train = utils.to_categorical(y_train, 2) #Converts a class vector (integers) to binary class matrix."
      ],
      "execution_count": null,
      "outputs": []
    },
    {
      "cell_type": "code",
      "metadata": {
        "id": "F2mEQ0i8sWEC"
      },
      "source": [
        "y_test = utils.to_categorical(y_test, 2)"
      ],
      "execution_count": null,
      "outputs": []
    },
    {
      "cell_type": "markdown",
      "metadata": {
        "id": "KfuqlyjHJ_ye"
      },
      "source": [
        "**Правильный ответ в формате one hot encoding**"
      ]
    },
    {
      "cell_type": "code",
      "metadata": {
        "id": "9zUfd1aeKH3e",
        "colab": {
          "base_uri": "https://localhost:8080/"
        },
        "outputId": "8e97febd-8e10-425b-b328-4736ebde5dfc"
      },
      "source": [
        "print(y_train[20])"
      ],
      "execution_count": null,
      "outputs": [
        {
          "output_type": "stream",
          "name": "stdout",
          "text": [
            "[1. 0.]\n"
          ]
        }
      ]
    },
    {
      "cell_type": "markdown",
      "metadata": {
        "id": "BmTr_lXTKNbN"
      },
      "source": [
        "## Построение и обучение нейронной сети"
      ]
    },
    {
      "cell_type": "markdown",
      "metadata": {
        "id": "fV_igNZuMNXe"
      },
      "source": [
        "**Построение последовательной модели**"
      ]
    },
    {
      "cell_type": "code",
      "metadata": {
        "id": "kYVSvpNIMSnG"
      },
      "source": [
        "# Создаем последовательную модель\n",
        "model = Sequential()\n",
        "# Входной полносвязный слой, 128 нейронов, 127 входа в каждый нейрон\n",
        "model.add(Dense(128, input_dim=127, activation=\"relu\")) #способ активации  Relu, установка стартовых коэффициентов\n",
        "# Выходной полносвязный слой, 2 нейрона (гриб=1 или нет=0)\n",
        "model.add(Dense(2, activation=\"softmax\")) #способ активации  softmax, установка стартовых коэффициентов"
      ],
      "execution_count": null,
      "outputs": []
    },
    {
      "cell_type": "markdown",
      "metadata": {
        "id": "G__m76T-KWhd"
      },
      "source": [
        "**Компиляция нейронной сети**"
      ]
    },
    {
      "cell_type": "code",
      "metadata": {
        "id": "PTcbSxchKZjd",
        "colab": {
          "base_uri": "https://localhost:8080/"
        },
        "outputId": "9a5e32d5-0477-4097-dfb0-2463cfcb2229"
      },
      "source": [
        "model.compile(loss=\"categorical_crossentropy\", optimizer=\"adam\", metrics=[\"accuracy\"])\n",
        "\n",
        "print(model.summary())"
      ],
      "execution_count": null,
      "outputs": [
        {
          "output_type": "stream",
          "name": "stdout",
          "text": [
            "Model: \"sequential\"\n",
            "_________________________________________________________________\n",
            " Layer (type)                Output Shape              Param #   \n",
            "=================================================================\n",
            " dense (Dense)               (None, 128)               16384     \n",
            "                                                                 \n",
            " dense_1 (Dense)             (None, 2)                 258       \n",
            "                                                                 \n",
            "=================================================================\n",
            "Total params: 16,642\n",
            "Trainable params: 16,642\n",
            "Non-trainable params: 0\n",
            "_________________________________________________________________\n",
            "None\n"
          ]
        }
      ]
    },
    {
      "cell_type": "markdown",
      "metadata": {
        "id": "lspCHiaCKl72"
      },
      "source": [
        "**Обучение нейронной сети**"
      ]
    },
    {
      "cell_type": "code",
      "metadata": {
        "id": "H6EIXu1dKoju",
        "colab": {
          "base_uri": "https://localhost:8080/"
        },
        "outputId": "b6de594e-b18a-429a-ffe2-83c7b6465a25"
      },
      "source": [
        "history = model.fit(x_train, y_train, \n",
        "                    batch_size=10, \n",
        "                    epochs=150,\n",
        "                    validation_split=0.2,\n",
        "                    verbose=1)"
      ],
      "execution_count": null,
      "outputs": [
        {
          "output_type": "stream",
          "name": "stdout",
          "text": [
            "Epoch 1/150\n",
            "2/2 [==============================] - 3s 219ms/step - loss: 0.6970 - accuracy: 0.6000 - val_loss: 0.6785 - val_accuracy: 1.0000\n",
            "Epoch 2/150\n",
            "2/2 [==============================] - 0s 27ms/step - loss: 0.6902 - accuracy: 0.7000 - val_loss: 0.6689 - val_accuracy: 1.0000\n",
            "Epoch 3/150\n",
            "2/2 [==============================] - 0s 24ms/step - loss: 0.6832 - accuracy: 0.7000 - val_loss: 0.6608 - val_accuracy: 1.0000\n",
            "Epoch 4/150\n",
            "2/2 [==============================] - 0s 24ms/step - loss: 0.6777 - accuracy: 0.7000 - val_loss: 0.6514 - val_accuracy: 1.0000\n",
            "Epoch 5/150\n",
            "2/2 [==============================] - 0s 25ms/step - loss: 0.6717 - accuracy: 0.7000 - val_loss: 0.6408 - val_accuracy: 1.0000\n",
            "Epoch 6/150\n",
            "2/2 [==============================] - 0s 24ms/step - loss: 0.6650 - accuracy: 0.7000 - val_loss: 0.6298 - val_accuracy: 1.0000\n",
            "Epoch 7/150\n",
            "2/2 [==============================] - 0s 22ms/step - loss: 0.6584 - accuracy: 0.7000 - val_loss: 0.6187 - val_accuracy: 1.0000\n",
            "Epoch 8/150\n",
            "2/2 [==============================] - 0s 23ms/step - loss: 0.6524 - accuracy: 0.7000 - val_loss: 0.6066 - val_accuracy: 1.0000\n",
            "Epoch 9/150\n",
            "2/2 [==============================] - 0s 41ms/step - loss: 0.6469 - accuracy: 0.7000 - val_loss: 0.5941 - val_accuracy: 1.0000\n",
            "Epoch 10/150\n",
            "2/2 [==============================] - 0s 25ms/step - loss: 0.6400 - accuracy: 0.7000 - val_loss: 0.5814 - val_accuracy: 1.0000\n",
            "Epoch 11/150\n",
            "2/2 [==============================] - 0s 25ms/step - loss: 0.6325 - accuracy: 0.7000 - val_loss: 0.5695 - val_accuracy: 1.0000\n",
            "Epoch 12/150\n",
            "2/2 [==============================] - 0s 31ms/step - loss: 0.6263 - accuracy: 0.7000 - val_loss: 0.5569 - val_accuracy: 1.0000\n",
            "Epoch 13/150\n",
            "2/2 [==============================] - 0s 23ms/step - loss: 0.6195 - accuracy: 0.7000 - val_loss: 0.5446 - val_accuracy: 1.0000\n",
            "Epoch 14/150\n",
            "2/2 [==============================] - 0s 26ms/step - loss: 0.6138 - accuracy: 0.7000 - val_loss: 0.5315 - val_accuracy: 1.0000\n",
            "Epoch 15/150\n",
            "2/2 [==============================] - 0s 24ms/step - loss: 0.6059 - accuracy: 0.7000 - val_loss: 0.5193 - val_accuracy: 1.0000\n",
            "Epoch 16/150\n",
            "2/2 [==============================] - 0s 24ms/step - loss: 0.5990 - accuracy: 0.7000 - val_loss: 0.5078 - val_accuracy: 1.0000\n",
            "Epoch 17/150\n",
            "2/2 [==============================] - 0s 23ms/step - loss: 0.5936 - accuracy: 0.7000 - val_loss: 0.4954 - val_accuracy: 1.0000\n",
            "Epoch 18/150\n",
            "2/2 [==============================] - 0s 26ms/step - loss: 0.5866 - accuracy: 0.7000 - val_loss: 0.4831 - val_accuracy: 1.0000\n",
            "Epoch 19/150\n",
            "2/2 [==============================] - 0s 23ms/step - loss: 0.5810 - accuracy: 0.7000 - val_loss: 0.4706 - val_accuracy: 1.0000\n",
            "Epoch 20/150\n",
            "2/2 [==============================] - 0s 24ms/step - loss: 0.5738 - accuracy: 0.7000 - val_loss: 0.4592 - val_accuracy: 1.0000\n",
            "Epoch 21/150\n",
            "2/2 [==============================] - 0s 23ms/step - loss: 0.5680 - accuracy: 0.7000 - val_loss: 0.4474 - val_accuracy: 1.0000\n",
            "Epoch 22/150\n",
            "2/2 [==============================] - 0s 24ms/step - loss: 0.5609 - accuracy: 0.7000 - val_loss: 0.4371 - val_accuracy: 1.0000\n",
            "Epoch 23/150\n",
            "2/2 [==============================] - 0s 22ms/step - loss: 0.5551 - accuracy: 0.7000 - val_loss: 0.4258 - val_accuracy: 1.0000\n",
            "Epoch 24/150\n",
            "2/2 [==============================] - 0s 25ms/step - loss: 0.5485 - accuracy: 0.7000 - val_loss: 0.4154 - val_accuracy: 1.0000\n",
            "Epoch 25/150\n",
            "2/2 [==============================] - 0s 25ms/step - loss: 0.5426 - accuracy: 0.7000 - val_loss: 0.4049 - val_accuracy: 1.0000\n",
            "Epoch 26/150\n",
            "2/2 [==============================] - 0s 24ms/step - loss: 0.5359 - accuracy: 0.7000 - val_loss: 0.3958 - val_accuracy: 1.0000\n",
            "Epoch 27/150\n",
            "2/2 [==============================] - 0s 44ms/step - loss: 0.5297 - accuracy: 0.7000 - val_loss: 0.3864 - val_accuracy: 1.0000\n",
            "Epoch 28/150\n",
            "2/2 [==============================] - 0s 23ms/step - loss: 0.5241 - accuracy: 0.7000 - val_loss: 0.3778 - val_accuracy: 1.0000\n",
            "Epoch 29/150\n",
            "2/2 [==============================] - 0s 24ms/step - loss: 0.5176 - accuracy: 0.7500 - val_loss: 0.3698 - val_accuracy: 1.0000\n",
            "Epoch 30/150\n",
            "2/2 [==============================] - 0s 24ms/step - loss: 0.5120 - accuracy: 0.7500 - val_loss: 0.3615 - val_accuracy: 1.0000\n",
            "Epoch 31/150\n",
            "2/2 [==============================] - 0s 41ms/step - loss: 0.5062 - accuracy: 0.7500 - val_loss: 0.3532 - val_accuracy: 1.0000\n",
            "Epoch 32/150\n",
            "2/2 [==============================] - 0s 25ms/step - loss: 0.5006 - accuracy: 0.7500 - val_loss: 0.3457 - val_accuracy: 1.0000\n",
            "Epoch 33/150\n",
            "2/2 [==============================] - 0s 24ms/step - loss: 0.4950 - accuracy: 0.7500 - val_loss: 0.3379 - val_accuracy: 1.0000\n",
            "Epoch 34/150\n",
            "2/2 [==============================] - 0s 24ms/step - loss: 0.4889 - accuracy: 0.7500 - val_loss: 0.3317 - val_accuracy: 1.0000\n",
            "Epoch 35/150\n",
            "2/2 [==============================] - 0s 26ms/step - loss: 0.4832 - accuracy: 0.7500 - val_loss: 0.3242 - val_accuracy: 1.0000\n",
            "Epoch 36/150\n",
            "2/2 [==============================] - 0s 21ms/step - loss: 0.4778 - accuracy: 0.7500 - val_loss: 0.3186 - val_accuracy: 1.0000\n",
            "Epoch 37/150\n",
            "2/2 [==============================] - 0s 24ms/step - loss: 0.4720 - accuracy: 0.7500 - val_loss: 0.3127 - val_accuracy: 1.0000\n",
            "Epoch 38/150\n",
            "2/2 [==============================] - 0s 28ms/step - loss: 0.4671 - accuracy: 0.7500 - val_loss: 0.3062 - val_accuracy: 1.0000\n",
            "Epoch 39/150\n",
            "2/2 [==============================] - 0s 29ms/step - loss: 0.4620 - accuracy: 0.7500 - val_loss: 0.3021 - val_accuracy: 1.0000\n",
            "Epoch 40/150\n",
            "2/2 [==============================] - 0s 24ms/step - loss: 0.4562 - accuracy: 0.7500 - val_loss: 0.2991 - val_accuracy: 1.0000\n",
            "Epoch 41/150\n",
            "2/2 [==============================] - 0s 25ms/step - loss: 0.4510 - accuracy: 0.7500 - val_loss: 0.2943 - val_accuracy: 1.0000\n",
            "Epoch 42/150\n",
            "2/2 [==============================] - 0s 25ms/step - loss: 0.4455 - accuracy: 0.7500 - val_loss: 0.2907 - val_accuracy: 1.0000\n",
            "Epoch 43/150\n",
            "2/2 [==============================] - 0s 28ms/step - loss: 0.4402 - accuracy: 0.8000 - val_loss: 0.2853 - val_accuracy: 1.0000\n",
            "Epoch 44/150\n",
            "2/2 [==============================] - 0s 24ms/step - loss: 0.4350 - accuracy: 0.8000 - val_loss: 0.2811 - val_accuracy: 1.0000\n",
            "Epoch 45/150\n",
            "2/2 [==============================] - 0s 25ms/step - loss: 0.4303 - accuracy: 0.7500 - val_loss: 0.2785 - val_accuracy: 1.0000\n",
            "Epoch 46/150\n",
            "2/2 [==============================] - 0s 24ms/step - loss: 0.4249 - accuracy: 0.7500 - val_loss: 0.2750 - val_accuracy: 1.0000\n",
            "Epoch 47/150\n",
            "2/2 [==============================] - 0s 23ms/step - loss: 0.4202 - accuracy: 0.7500 - val_loss: 0.2726 - val_accuracy: 1.0000\n",
            "Epoch 48/150\n",
            "2/2 [==============================] - 0s 24ms/step - loss: 0.4143 - accuracy: 0.7500 - val_loss: 0.2688 - val_accuracy: 1.0000\n",
            "Epoch 49/150\n",
            "2/2 [==============================] - 0s 23ms/step - loss: 0.4093 - accuracy: 0.7500 - val_loss: 0.2653 - val_accuracy: 1.0000\n",
            "Epoch 50/150\n",
            "2/2 [==============================] - 0s 27ms/step - loss: 0.4048 - accuracy: 0.7500 - val_loss: 0.2607 - val_accuracy: 1.0000\n",
            "Epoch 51/150\n",
            "2/2 [==============================] - 0s 25ms/step - loss: 0.4010 - accuracy: 0.7500 - val_loss: 0.2590 - val_accuracy: 1.0000\n",
            "Epoch 52/150\n",
            "2/2 [==============================] - 0s 24ms/step - loss: 0.3958 - accuracy: 0.7500 - val_loss: 0.2568 - val_accuracy: 1.0000\n",
            "Epoch 53/150\n",
            "2/2 [==============================] - 0s 24ms/step - loss: 0.3903 - accuracy: 0.7500 - val_loss: 0.2524 - val_accuracy: 1.0000\n",
            "Epoch 54/150\n",
            "2/2 [==============================] - 0s 24ms/step - loss: 0.3864 - accuracy: 0.7500 - val_loss: 0.2500 - val_accuracy: 1.0000\n",
            "Epoch 55/150\n",
            "2/2 [==============================] - 0s 23ms/step - loss: 0.3814 - accuracy: 0.7500 - val_loss: 0.2460 - val_accuracy: 1.0000\n",
            "Epoch 56/150\n",
            "2/2 [==============================] - 0s 24ms/step - loss: 0.3770 - accuracy: 0.7500 - val_loss: 0.2433 - val_accuracy: 1.0000\n",
            "Epoch 57/150\n",
            "2/2 [==============================] - 0s 24ms/step - loss: 0.3721 - accuracy: 0.7500 - val_loss: 0.2394 - val_accuracy: 1.0000\n",
            "Epoch 58/150\n",
            "2/2 [==============================] - 0s 24ms/step - loss: 0.3685 - accuracy: 0.7500 - val_loss: 0.2377 - val_accuracy: 1.0000\n",
            "Epoch 59/150\n",
            "2/2 [==============================] - 0s 24ms/step - loss: 0.3637 - accuracy: 0.7500 - val_loss: 0.2362 - val_accuracy: 1.0000\n",
            "Epoch 60/150\n",
            "2/2 [==============================] - 0s 25ms/step - loss: 0.3595 - accuracy: 0.7500 - val_loss: 0.2336 - val_accuracy: 1.0000\n",
            "Epoch 61/150\n",
            "2/2 [==============================] - 0s 26ms/step - loss: 0.3552 - accuracy: 0.7500 - val_loss: 0.2307 - val_accuracy: 1.0000\n",
            "Epoch 62/150\n",
            "2/2 [==============================] - 0s 23ms/step - loss: 0.3505 - accuracy: 0.8000 - val_loss: 0.2271 - val_accuracy: 1.0000\n",
            "Epoch 63/150\n",
            "2/2 [==============================] - 0s 26ms/step - loss: 0.3464 - accuracy: 0.8000 - val_loss: 0.2246 - val_accuracy: 1.0000\n",
            "Epoch 64/150\n",
            "2/2 [==============================] - 0s 23ms/step - loss: 0.3428 - accuracy: 0.8000 - val_loss: 0.2228 - val_accuracy: 1.0000\n",
            "Epoch 65/150\n",
            "2/2 [==============================] - 0s 22ms/step - loss: 0.3387 - accuracy: 0.8000 - val_loss: 0.2186 - val_accuracy: 1.0000\n",
            "Epoch 66/150\n",
            "2/2 [==============================] - 0s 33ms/step - loss: 0.3353 - accuracy: 0.8000 - val_loss: 0.2173 - val_accuracy: 1.0000\n",
            "Epoch 67/150\n",
            "2/2 [==============================] - 0s 23ms/step - loss: 0.3310 - accuracy: 0.8500 - val_loss: 0.2154 - val_accuracy: 1.0000\n",
            "Epoch 68/150\n",
            "2/2 [==============================] - 0s 23ms/step - loss: 0.3270 - accuracy: 0.8500 - val_loss: 0.2132 - val_accuracy: 1.0000\n",
            "Epoch 69/150\n",
            "2/2 [==============================] - 0s 25ms/step - loss: 0.3237 - accuracy: 0.8500 - val_loss: 0.2117 - val_accuracy: 1.0000\n",
            "Epoch 70/150\n",
            "2/2 [==============================] - 0s 23ms/step - loss: 0.3194 - accuracy: 0.8500 - val_loss: 0.2082 - val_accuracy: 1.0000\n",
            "Epoch 71/150\n",
            "2/2 [==============================] - 0s 23ms/step - loss: 0.3167 - accuracy: 0.9000 - val_loss: 0.2060 - val_accuracy: 1.0000\n",
            "Epoch 72/150\n",
            "2/2 [==============================] - 0s 23ms/step - loss: 0.3124 - accuracy: 0.9000 - val_loss: 0.2013 - val_accuracy: 1.0000\n",
            "Epoch 73/150\n",
            "2/2 [==============================] - 0s 24ms/step - loss: 0.3090 - accuracy: 0.9000 - val_loss: 0.1976 - val_accuracy: 1.0000\n",
            "Epoch 74/150\n",
            "2/2 [==============================] - 0s 23ms/step - loss: 0.3061 - accuracy: 0.9000 - val_loss: 0.1952 - val_accuracy: 1.0000\n",
            "Epoch 75/150\n",
            "2/2 [==============================] - 0s 23ms/step - loss: 0.3031 - accuracy: 0.9000 - val_loss: 0.1932 - val_accuracy: 1.0000\n",
            "Epoch 76/150\n",
            "2/2 [==============================] - 0s 22ms/step - loss: 0.3005 - accuracy: 0.9000 - val_loss: 0.1874 - val_accuracy: 1.0000\n",
            "Epoch 77/150\n",
            "2/2 [==============================] - 0s 24ms/step - loss: 0.2962 - accuracy: 0.9000 - val_loss: 0.1840 - val_accuracy: 1.0000\n",
            "Epoch 78/150\n",
            "2/2 [==============================] - 0s 23ms/step - loss: 0.2936 - accuracy: 0.9000 - val_loss: 0.1808 - val_accuracy: 1.0000\n",
            "Epoch 79/150\n",
            "2/2 [==============================] - 0s 26ms/step - loss: 0.2907 - accuracy: 0.9000 - val_loss: 0.1788 - val_accuracy: 1.0000\n",
            "Epoch 80/150\n",
            "2/2 [==============================] - 0s 24ms/step - loss: 0.2884 - accuracy: 0.9000 - val_loss: 0.1746 - val_accuracy: 1.0000\n",
            "Epoch 81/150\n",
            "2/2 [==============================] - 0s 41ms/step - loss: 0.2853 - accuracy: 0.9000 - val_loss: 0.1736 - val_accuracy: 1.0000\n",
            "Epoch 82/150\n",
            "2/2 [==============================] - 0s 23ms/step - loss: 0.2824 - accuracy: 0.9000 - val_loss: 0.1724 - val_accuracy: 1.0000\n",
            "Epoch 83/150\n",
            "2/2 [==============================] - 0s 25ms/step - loss: 0.2791 - accuracy: 0.9000 - val_loss: 0.1697 - val_accuracy: 1.0000\n",
            "Epoch 84/150\n",
            "2/2 [==============================] - 0s 23ms/step - loss: 0.2768 - accuracy: 0.9000 - val_loss: 0.1666 - val_accuracy: 1.0000\n",
            "Epoch 85/150\n",
            "2/2 [==============================] - 0s 24ms/step - loss: 0.2751 - accuracy: 0.9000 - val_loss: 0.1662 - val_accuracy: 1.0000\n",
            "Epoch 86/150\n",
            "2/2 [==============================] - 0s 23ms/step - loss: 0.2715 - accuracy: 0.9000 - val_loss: 0.1645 - val_accuracy: 1.0000\n",
            "Epoch 87/150\n",
            "2/2 [==============================] - 0s 26ms/step - loss: 0.2696 - accuracy: 0.9000 - val_loss: 0.1631 - val_accuracy: 1.0000\n",
            "Epoch 88/150\n",
            "2/2 [==============================] - 0s 25ms/step - loss: 0.2666 - accuracy: 0.9000 - val_loss: 0.1602 - val_accuracy: 1.0000\n",
            "Epoch 89/150\n",
            "2/2 [==============================] - 0s 24ms/step - loss: 0.2642 - accuracy: 0.9000 - val_loss: 0.1568 - val_accuracy: 1.0000\n",
            "Epoch 90/150\n",
            "2/2 [==============================] - 0s 24ms/step - loss: 0.2618 - accuracy: 0.9000 - val_loss: 0.1541 - val_accuracy: 1.0000\n",
            "Epoch 91/150\n",
            "2/2 [==============================] - 0s 25ms/step - loss: 0.2597 - accuracy: 0.9000 - val_loss: 0.1529 - val_accuracy: 1.0000\n",
            "Epoch 92/150\n",
            "2/2 [==============================] - 0s 40ms/step - loss: 0.2574 - accuracy: 0.9000 - val_loss: 0.1508 - val_accuracy: 1.0000\n",
            "Epoch 93/150\n",
            "2/2 [==============================] - 0s 25ms/step - loss: 0.2554 - accuracy: 0.9000 - val_loss: 0.1479 - val_accuracy: 1.0000\n",
            "Epoch 94/150\n",
            "2/2 [==============================] - 0s 24ms/step - loss: 0.2527 - accuracy: 0.9000 - val_loss: 0.1470 - val_accuracy: 1.0000\n",
            "Epoch 95/150\n",
            "2/2 [==============================] - 0s 25ms/step - loss: 0.2506 - accuracy: 0.9000 - val_loss: 0.1453 - val_accuracy: 1.0000\n",
            "Epoch 96/150\n",
            "2/2 [==============================] - 0s 26ms/step - loss: 0.2490 - accuracy: 0.9000 - val_loss: 0.1445 - val_accuracy: 1.0000\n",
            "Epoch 97/150\n",
            "2/2 [==============================] - 0s 27ms/step - loss: 0.2465 - accuracy: 0.9500 - val_loss: 0.1430 - val_accuracy: 1.0000\n",
            "Epoch 98/150\n",
            "2/2 [==============================] - 0s 24ms/step - loss: 0.2444 - accuracy: 0.9500 - val_loss: 0.1409 - val_accuracy: 1.0000\n",
            "Epoch 99/150\n",
            "2/2 [==============================] - 0s 23ms/step - loss: 0.2423 - accuracy: 0.9500 - val_loss: 0.1391 - val_accuracy: 1.0000\n",
            "Epoch 100/150\n",
            "2/2 [==============================] - 0s 23ms/step - loss: 0.2405 - accuracy: 0.9500 - val_loss: 0.1376 - val_accuracy: 1.0000\n",
            "Epoch 101/150\n",
            "2/2 [==============================] - 0s 23ms/step - loss: 0.2391 - accuracy: 0.9500 - val_loss: 0.1366 - val_accuracy: 1.0000\n",
            "Epoch 102/150\n",
            "2/2 [==============================] - 0s 41ms/step - loss: 0.2368 - accuracy: 0.9500 - val_loss: 0.1341 - val_accuracy: 1.0000\n",
            "Epoch 103/150\n",
            "2/2 [==============================] - 0s 24ms/step - loss: 0.2347 - accuracy: 0.9500 - val_loss: 0.1321 - val_accuracy: 1.0000\n",
            "Epoch 104/150\n",
            "2/2 [==============================] - 0s 22ms/step - loss: 0.2333 - accuracy: 0.9500 - val_loss: 0.1292 - val_accuracy: 1.0000\n",
            "Epoch 105/150\n",
            "2/2 [==============================] - 0s 23ms/step - loss: 0.2309 - accuracy: 0.9500 - val_loss: 0.1281 - val_accuracy: 1.0000\n",
            "Epoch 106/150\n",
            "2/2 [==============================] - 0s 23ms/step - loss: 0.2294 - accuracy: 0.9500 - val_loss: 0.1269 - val_accuracy: 1.0000\n",
            "Epoch 107/150\n",
            "2/2 [==============================] - 0s 23ms/step - loss: 0.2279 - accuracy: 0.9000 - val_loss: 0.1245 - val_accuracy: 1.0000\n",
            "Epoch 108/150\n",
            "2/2 [==============================] - 0s 42ms/step - loss: 0.2262 - accuracy: 0.9000 - val_loss: 0.1243 - val_accuracy: 1.0000\n",
            "Epoch 109/150\n",
            "2/2 [==============================] - 0s 23ms/step - loss: 0.2239 - accuracy: 0.9500 - val_loss: 0.1226 - val_accuracy: 1.0000\n",
            "Epoch 110/150\n",
            "2/2 [==============================] - 0s 22ms/step - loss: 0.2226 - accuracy: 0.9500 - val_loss: 0.1217 - val_accuracy: 1.0000\n",
            "Epoch 111/150\n",
            "2/2 [==============================] - 0s 22ms/step - loss: 0.2213 - accuracy: 0.9500 - val_loss: 0.1211 - val_accuracy: 1.0000\n",
            "Epoch 112/150\n",
            "2/2 [==============================] - 0s 23ms/step - loss: 0.2189 - accuracy: 0.9500 - val_loss: 0.1195 - val_accuracy: 1.0000\n",
            "Epoch 113/150\n",
            "2/2 [==============================] - 0s 23ms/step - loss: 0.2178 - accuracy: 0.9500 - val_loss: 0.1171 - val_accuracy: 1.0000\n",
            "Epoch 114/150\n",
            "2/2 [==============================] - 0s 22ms/step - loss: 0.2159 - accuracy: 0.9500 - val_loss: 0.1156 - val_accuracy: 1.0000\n",
            "Epoch 115/150\n",
            "2/2 [==============================] - 0s 24ms/step - loss: 0.2146 - accuracy: 0.9500 - val_loss: 0.1153 - val_accuracy: 1.0000\n",
            "Epoch 116/150\n",
            "2/2 [==============================] - 0s 23ms/step - loss: 0.2129 - accuracy: 0.9500 - val_loss: 0.1135 - val_accuracy: 1.0000\n",
            "Epoch 117/150\n",
            "2/2 [==============================] - 0s 26ms/step - loss: 0.2112 - accuracy: 0.9000 - val_loss: 0.1118 - val_accuracy: 1.0000\n",
            "Epoch 118/150\n",
            "2/2 [==============================] - 0s 28ms/step - loss: 0.2101 - accuracy: 0.9000 - val_loss: 0.1101 - val_accuracy: 1.0000\n",
            "Epoch 119/150\n",
            "2/2 [==============================] - 0s 32ms/step - loss: 0.2082 - accuracy: 0.9000 - val_loss: 0.1088 - val_accuracy: 1.0000\n",
            "Epoch 120/150\n",
            "2/2 [==============================] - 0s 24ms/step - loss: 0.2069 - accuracy: 0.9000 - val_loss: 0.1083 - val_accuracy: 1.0000\n",
            "Epoch 121/150\n",
            "2/2 [==============================] - 0s 27ms/step - loss: 0.2054 - accuracy: 0.9000 - val_loss: 0.1075 - val_accuracy: 1.0000\n",
            "Epoch 122/150\n",
            "2/2 [==============================] - 0s 24ms/step - loss: 0.2040 - accuracy: 0.9000 - val_loss: 0.1064 - val_accuracy: 1.0000\n",
            "Epoch 123/150\n",
            "2/2 [==============================] - 0s 23ms/step - loss: 0.2026 - accuracy: 0.9000 - val_loss: 0.1050 - val_accuracy: 1.0000\n",
            "Epoch 124/150\n",
            "2/2 [==============================] - 0s 34ms/step - loss: 0.2011 - accuracy: 0.9000 - val_loss: 0.1038 - val_accuracy: 1.0000\n",
            "Epoch 125/150\n",
            "2/2 [==============================] - 0s 23ms/step - loss: 0.2000 - accuracy: 0.9000 - val_loss: 0.1029 - val_accuracy: 1.0000\n",
            "Epoch 126/150\n",
            "2/2 [==============================] - 0s 24ms/step - loss: 0.1984 - accuracy: 0.9000 - val_loss: 0.1023 - val_accuracy: 1.0000\n",
            "Epoch 127/150\n",
            "2/2 [==============================] - 0s 25ms/step - loss: 0.1976 - accuracy: 0.9000 - val_loss: 0.1009 - val_accuracy: 1.0000\n",
            "Epoch 128/150\n",
            "2/2 [==============================] - 0s 25ms/step - loss: 0.1963 - accuracy: 0.9000 - val_loss: 0.0994 - val_accuracy: 1.0000\n",
            "Epoch 129/150\n",
            "2/2 [==============================] - 0s 23ms/step - loss: 0.1948 - accuracy: 0.9000 - val_loss: 0.0995 - val_accuracy: 1.0000\n",
            "Epoch 130/150\n",
            "2/2 [==============================] - 0s 22ms/step - loss: 0.1933 - accuracy: 0.9000 - val_loss: 0.0987 - val_accuracy: 1.0000\n",
            "Epoch 131/150\n",
            "2/2 [==============================] - 0s 24ms/step - loss: 0.1920 - accuracy: 0.9000 - val_loss: 0.0981 - val_accuracy: 1.0000\n",
            "Epoch 132/150\n",
            "2/2 [==============================] - 0s 24ms/step - loss: 0.1907 - accuracy: 0.9000 - val_loss: 0.0971 - val_accuracy: 1.0000\n",
            "Epoch 133/150\n",
            "2/2 [==============================] - 0s 22ms/step - loss: 0.1896 - accuracy: 0.9000 - val_loss: 0.0960 - val_accuracy: 1.0000\n",
            "Epoch 134/150\n",
            "2/2 [==============================] - 0s 24ms/step - loss: 0.1889 - accuracy: 0.9000 - val_loss: 0.0962 - val_accuracy: 1.0000\n",
            "Epoch 135/150\n",
            "2/2 [==============================] - 0s 29ms/step - loss: 0.1873 - accuracy: 0.9000 - val_loss: 0.0957 - val_accuracy: 1.0000\n",
            "Epoch 136/150\n",
            "2/2 [==============================] - 0s 26ms/step - loss: 0.1859 - accuracy: 0.9000 - val_loss: 0.0944 - val_accuracy: 1.0000\n",
            "Epoch 137/150\n",
            "2/2 [==============================] - 0s 26ms/step - loss: 0.1850 - accuracy: 0.9000 - val_loss: 0.0936 - val_accuracy: 1.0000\n",
            "Epoch 138/150\n",
            "2/2 [==============================] - 0s 25ms/step - loss: 0.1836 - accuracy: 0.9000 - val_loss: 0.0925 - val_accuracy: 1.0000\n",
            "Epoch 139/150\n",
            "2/2 [==============================] - 0s 26ms/step - loss: 0.1825 - accuracy: 0.9000 - val_loss: 0.0920 - val_accuracy: 1.0000\n",
            "Epoch 140/150\n",
            "2/2 [==============================] - 0s 42ms/step - loss: 0.1815 - accuracy: 0.9000 - val_loss: 0.0907 - val_accuracy: 1.0000\n",
            "Epoch 141/150\n",
            "2/2 [==============================] - 0s 24ms/step - loss: 0.1802 - accuracy: 0.9000 - val_loss: 0.0897 - val_accuracy: 1.0000\n",
            "Epoch 142/150\n",
            "2/2 [==============================] - 0s 23ms/step - loss: 0.1792 - accuracy: 0.9000 - val_loss: 0.0895 - val_accuracy: 1.0000\n",
            "Epoch 143/150\n",
            "2/2 [==============================] - 0s 23ms/step - loss: 0.1782 - accuracy: 0.9000 - val_loss: 0.0891 - val_accuracy: 1.0000\n",
            "Epoch 144/150\n",
            "2/2 [==============================] - 0s 27ms/step - loss: 0.1769 - accuracy: 0.9000 - val_loss: 0.0879 - val_accuracy: 1.0000\n",
            "Epoch 145/150\n",
            "2/2 [==============================] - 0s 31ms/step - loss: 0.1760 - accuracy: 0.9000 - val_loss: 0.0876 - val_accuracy: 1.0000\n",
            "Epoch 146/150\n",
            "2/2 [==============================] - 0s 26ms/step - loss: 0.1747 - accuracy: 0.9000 - val_loss: 0.0870 - val_accuracy: 1.0000\n",
            "Epoch 147/150\n",
            "2/2 [==============================] - 0s 29ms/step - loss: 0.1739 - accuracy: 0.9000 - val_loss: 0.0867 - val_accuracy: 1.0000\n",
            "Epoch 148/150\n",
            "2/2 [==============================] - 0s 25ms/step - loss: 0.1725 - accuracy: 0.9000 - val_loss: 0.0856 - val_accuracy: 1.0000\n",
            "Epoch 149/150\n",
            "2/2 [==============================] - 0s 24ms/step - loss: 0.1717 - accuracy: 0.9000 - val_loss: 0.0845 - val_accuracy: 1.0000\n",
            "Epoch 150/150\n",
            "2/2 [==============================] - 0s 24ms/step - loss: 0.1705 - accuracy: 0.9000 - val_loss: 0.0838 - val_accuracy: 1.0000\n"
          ]
        }
      ]
    },
    {
      "cell_type": "code",
      "source": [
        "fig, ax = plt.subplots(figsize=(12, 6))\n",
        "ax.plot(history.history['accuracy'], color='blue', label='The percentage of correct answers in the training set')\n",
        "ax.plot(history.history['loss'], color='red', label='Training error')\n",
        "plt.legend()\n",
        "plt.ylim(0,1)\n",
        "plt.show()"
      ],
      "metadata": {
        "colab": {
          "base_uri": "https://localhost:8080/",
          "height": 378
        },
        "id": "_-X15qu52fjc",
        "outputId": "bbcd3579-0b12-484b-8533-a7354b062b3a"
      },
      "execution_count": null,
      "outputs": [
        {
          "output_type": "display_data",
          "data": {
            "text/plain": [
              "<Figure size 864x432 with 1 Axes>"
            ],
            "image/png": "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\n"
          },
          "metadata": {
            "needs_background": "light"
          }
        }
      ]
    },
    {
      "cell_type": "markdown",
      "metadata": {
        "id": "p8sPOaFqrz4M"
      },
      "source": [
        "## Оценка качества обучения"
      ]
    },
    {
      "cell_type": "markdown",
      "metadata": {
        "id": "DIl_s4PAr39x"
      },
      "source": [
        "**Проверка качества работы на тестовом наборе данных**"
      ]
    },
    {
      "cell_type": "code",
      "metadata": {
        "id": "4CX6To0sr2zd",
        "colab": {
          "base_uri": "https://localhost:8080/"
        },
        "outputId": "d8eecb7f-e5fe-4a61-8a8a-7bd0407dd629"
      },
      "source": [
        "scores = model.evaluate(x_test, y_test, verbose=1)"
      ],
      "execution_count": null,
      "outputs": [
        {
          "output_type": "stream",
          "name": "stdout",
          "text": [
            "1/1 [==============================] - 0s 20ms/step - loss: 0.3407 - accuracy: 0.8800\n"
          ]
        }
      ]
    },
    {
      "cell_type": "code",
      "metadata": {
        "id": "s7iZsuR8scXk",
        "colab": {
          "base_uri": "https://localhost:8080/"
        },
        "outputId": "f45bd6df-80bc-4fea-f344-b5d6a10f3435"
      },
      "source": [
        "print(\"Доля правильных ответов на тестовых данных, в процентах:\", round(scores[1] * 100, 4))"
      ],
      "execution_count": null,
      "outputs": [
        {
          "output_type": "stream",
          "name": "stdout",
          "text": [
            "Доля правильных ответов на тестовых данных, в процентах: 88.0\n"
          ]
        }
      ]
    },
    {
      "cell_type": "code",
      "source": [
        "classes = ['Not_Fungi','Yep_Fungi']"
      ],
      "metadata": {
        "id": "KkcvSo-tMhIQ"
      },
      "execution_count": null,
      "outputs": []
    },
    {
      "cell_type": "markdown",
      "source": [
        "**Формирование кадра выходных данных**"
      ],
      "metadata": {
        "id": "twpgHGRVEswv"
      }
    },
    {
      "cell_type": "code",
      "source": [
        "P_Not=[]\n",
        "P_Yep=[]\n",
        "NN_Ch=[]\n",
        "for Row in range(len(Testdf)):\n",
        "  x = x_test[Row]\n",
        "  x = np.expand_dims(x, axis=0) ##Меняем размерность изображения и нормализуем его\n",
        "  prediction = model.predict(x) ##Запускаем распознавание\n",
        "  P_Not.append(prediction[0][0])\n",
        "  P_Yep.append(prediction[0][1])\n",
        "  NN_Ch_ind=np.argmax(prediction[0])\n",
        "  NN_Ch.append(classes[NN_Ch_ind])"
      ],
      "metadata": {
        "id": "yZc6VkivRVYN"
      },
      "execution_count": null,
      "outputs": []
    },
    {
      "cell_type": "code",
      "source": [
        "prediction[0][0]"
      ],
      "metadata": {
        "colab": {
          "base_uri": "https://localhost:8080/"
        },
        "id": "TE2GpL2ayqdG",
        "outputId": "4366f98f-9b27-4f14-b081-e8e3911a3791"
      },
      "execution_count": null,
      "outputs": [
        {
          "output_type": "execute_result",
          "data": {
            "text/plain": [
              "0.9564281"
            ]
          },
          "metadata": {},
          "execution_count": 29
        }
      ]
    },
    {
      "cell_type": "code",
      "source": [
        "Resultdf=Testdf.iloc[:,1:3]\n",
        "Resultdf.insert(2,'NN_Ch',NN_Ch)\n",
        "Resultdf.insert(3,'P_Yep',P_Yep)\n",
        "Resultdf.insert(4,'P_Not',P_Not)\n",
        "Resultdf.head(10)"
      ],
      "metadata": {
        "colab": {
          "base_uri": "https://localhost:8080/",
          "height": 363
        },
        "id": "CU9dsCLDbC_L",
        "outputId": "a9994e15-8af1-46d1-f0ce-4f63682c0199"
      },
      "execution_count": null,
      "outputs": [
        {
          "output_type": "execute_result",
          "data": {
            "text/plain": [
              "    N  0      NN_Ch     P_Yep     P_Not\n",
              "0   1  1  Yep_Fungi  0.720561  0.279439\n",
              "1   3  1  Yep_Fungi  0.869559  0.130441\n",
              "2   5  1  Yep_Fungi  0.939759  0.060241\n",
              "3   7  1  Yep_Fungi  0.572598  0.427402\n",
              "4   9  0  Yep_Fungi  0.599785  0.400215\n",
              "5  11  0  Not_Fungi  0.323159  0.676841\n",
              "6  13  0  Not_Fungi  0.018877  0.981123\n",
              "7  15  0  Not_Fungi  0.354524  0.645476\n",
              "8  17  0  Not_Fungi  0.080911  0.919089\n",
              "9  19  0  Not_Fungi  0.010702  0.989298"
            ],
            "text/html": [
              "\n",
              "  <div id=\"df-488d8dbe-983c-4d86-a100-6a5b682fe98d\">\n",
              "    <div class=\"colab-df-container\">\n",
              "      <div>\n",
              "<style scoped>\n",
              "    .dataframe tbody tr th:only-of-type {\n",
              "        vertical-align: middle;\n",
              "    }\n",
              "\n",
              "    .dataframe tbody tr th {\n",
              "        vertical-align: top;\n",
              "    }\n",
              "\n",
              "    .dataframe thead th {\n",
              "        text-align: right;\n",
              "    }\n",
              "</style>\n",
              "<table border=\"1\" class=\"dataframe\">\n",
              "  <thead>\n",
              "    <tr style=\"text-align: right;\">\n",
              "      <th></th>\n",
              "      <th>N</th>\n",
              "      <th>0</th>\n",
              "      <th>NN_Ch</th>\n",
              "      <th>P_Yep</th>\n",
              "      <th>P_Not</th>\n",
              "    </tr>\n",
              "  </thead>\n",
              "  <tbody>\n",
              "    <tr>\n",
              "      <th>0</th>\n",
              "      <td>1</td>\n",
              "      <td>1</td>\n",
              "      <td>Yep_Fungi</td>\n",
              "      <td>0.720561</td>\n",
              "      <td>0.279439</td>\n",
              "    </tr>\n",
              "    <tr>\n",
              "      <th>1</th>\n",
              "      <td>3</td>\n",
              "      <td>1</td>\n",
              "      <td>Yep_Fungi</td>\n",
              "      <td>0.869559</td>\n",
              "      <td>0.130441</td>\n",
              "    </tr>\n",
              "    <tr>\n",
              "      <th>2</th>\n",
              "      <td>5</td>\n",
              "      <td>1</td>\n",
              "      <td>Yep_Fungi</td>\n",
              "      <td>0.939759</td>\n",
              "      <td>0.060241</td>\n",
              "    </tr>\n",
              "    <tr>\n",
              "      <th>3</th>\n",
              "      <td>7</td>\n",
              "      <td>1</td>\n",
              "      <td>Yep_Fungi</td>\n",
              "      <td>0.572598</td>\n",
              "      <td>0.427402</td>\n",
              "    </tr>\n",
              "    <tr>\n",
              "      <th>4</th>\n",
              "      <td>9</td>\n",
              "      <td>0</td>\n",
              "      <td>Yep_Fungi</td>\n",
              "      <td>0.599785</td>\n",
              "      <td>0.400215</td>\n",
              "    </tr>\n",
              "    <tr>\n",
              "      <th>5</th>\n",
              "      <td>11</td>\n",
              "      <td>0</td>\n",
              "      <td>Not_Fungi</td>\n",
              "      <td>0.323159</td>\n",
              "      <td>0.676841</td>\n",
              "    </tr>\n",
              "    <tr>\n",
              "      <th>6</th>\n",
              "      <td>13</td>\n",
              "      <td>0</td>\n",
              "      <td>Not_Fungi</td>\n",
              "      <td>0.018877</td>\n",
              "      <td>0.981123</td>\n",
              "    </tr>\n",
              "    <tr>\n",
              "      <th>7</th>\n",
              "      <td>15</td>\n",
              "      <td>0</td>\n",
              "      <td>Not_Fungi</td>\n",
              "      <td>0.354524</td>\n",
              "      <td>0.645476</td>\n",
              "    </tr>\n",
              "    <tr>\n",
              "      <th>8</th>\n",
              "      <td>17</td>\n",
              "      <td>0</td>\n",
              "      <td>Not_Fungi</td>\n",
              "      <td>0.080911</td>\n",
              "      <td>0.919089</td>\n",
              "    </tr>\n",
              "    <tr>\n",
              "      <th>9</th>\n",
              "      <td>19</td>\n",
              "      <td>0</td>\n",
              "      <td>Not_Fungi</td>\n",
              "      <td>0.010702</td>\n",
              "      <td>0.989298</td>\n",
              "    </tr>\n",
              "  </tbody>\n",
              "</table>\n",
              "</div>\n",
              "      <button class=\"colab-df-convert\" onclick=\"convertToInteractive('df-488d8dbe-983c-4d86-a100-6a5b682fe98d')\"\n",
              "              title=\"Convert this dataframe to an interactive table.\"\n",
              "              style=\"display:none;\">\n",
              "        \n",
              "  <svg xmlns=\"http://www.w3.org/2000/svg\" height=\"24px\"viewBox=\"0 0 24 24\"\n",
              "       width=\"24px\">\n",
              "    <path d=\"M0 0h24v24H0V0z\" fill=\"none\"/>\n",
              "    <path d=\"M18.56 5.44l.94 2.06.94-2.06 2.06-.94-2.06-.94-.94-2.06-.94 2.06-2.06.94zm-11 1L8.5 8.5l.94-2.06 2.06-.94-2.06-.94L8.5 2.5l-.94 2.06-2.06.94zm10 10l.94 2.06.94-2.06 2.06-.94-2.06-.94-.94-2.06-.94 2.06-2.06.94z\"/><path d=\"M17.41 7.96l-1.37-1.37c-.4-.4-.92-.59-1.43-.59-.52 0-1.04.2-1.43.59L10.3 9.45l-7.72 7.72c-.78.78-.78 2.05 0 2.83L4 21.41c.39.39.9.59 1.41.59.51 0 1.02-.2 1.41-.59l7.78-7.78 2.81-2.81c.8-.78.8-2.07 0-2.86zM5.41 20L4 18.59l7.72-7.72 1.47 1.35L5.41 20z\"/>\n",
              "  </svg>\n",
              "      </button>\n",
              "      \n",
              "  <style>\n",
              "    .colab-df-container {\n",
              "      display:flex;\n",
              "      flex-wrap:wrap;\n",
              "      gap: 12px;\n",
              "    }\n",
              "\n",
              "    .colab-df-convert {\n",
              "      background-color: #E8F0FE;\n",
              "      border: none;\n",
              "      border-radius: 50%;\n",
              "      cursor: pointer;\n",
              "      display: none;\n",
              "      fill: #1967D2;\n",
              "      height: 32px;\n",
              "      padding: 0 0 0 0;\n",
              "      width: 32px;\n",
              "    }\n",
              "\n",
              "    .colab-df-convert:hover {\n",
              "      background-color: #E2EBFA;\n",
              "      box-shadow: 0px 1px 2px rgba(60, 64, 67, 0.3), 0px 1px 3px 1px rgba(60, 64, 67, 0.15);\n",
              "      fill: #174EA6;\n",
              "    }\n",
              "\n",
              "    [theme=dark] .colab-df-convert {\n",
              "      background-color: #3B4455;\n",
              "      fill: #D2E3FC;\n",
              "    }\n",
              "\n",
              "    [theme=dark] .colab-df-convert:hover {\n",
              "      background-color: #434B5C;\n",
              "      box-shadow: 0px 1px 3px 1px rgba(0, 0, 0, 0.15);\n",
              "      filter: drop-shadow(0px 1px 2px rgba(0, 0, 0, 0.3));\n",
              "      fill: #FFFFFF;\n",
              "    }\n",
              "  </style>\n",
              "\n",
              "      <script>\n",
              "        const buttonEl =\n",
              "          document.querySelector('#df-488d8dbe-983c-4d86-a100-6a5b682fe98d button.colab-df-convert');\n",
              "        buttonEl.style.display =\n",
              "          google.colab.kernel.accessAllowed ? 'block' : 'none';\n",
              "\n",
              "        async function convertToInteractive(key) {\n",
              "          const element = document.querySelector('#df-488d8dbe-983c-4d86-a100-6a5b682fe98d');\n",
              "          const dataTable =\n",
              "            await google.colab.kernel.invokeFunction('convertToInteractive',\n",
              "                                                     [key], {});\n",
              "          if (!dataTable) return;\n",
              "\n",
              "          const docLinkHtml = 'Like what you see? Visit the ' +\n",
              "            '<a target=\"_blank\" href=https://colab.research.google.com/notebooks/data_table.ipynb>data table notebook</a>'\n",
              "            + ' to learn more about interactive tables.';\n",
              "          element.innerHTML = '';\n",
              "          dataTable['output_type'] = 'display_data';\n",
              "          await google.colab.output.renderOutput(dataTable, element);\n",
              "          const docLink = document.createElement('div');\n",
              "          docLink.innerHTML = docLinkHtml;\n",
              "          element.appendChild(docLink);\n",
              "        }\n",
              "      </script>\n",
              "    </div>\n",
              "  </div>\n",
              "  "
            ]
          },
          "metadata": {},
          "execution_count": 26
        }
      ]
    },
    {
      "cell_type": "markdown",
      "metadata": {
        "id": "LQTiyEM3NfRG"
      },
      "source": [
        "**Формирование выходного файла**"
      ]
    },
    {
      "cell_type": "code",
      "source": [
        "Resultdf.to_excel('Result.xlsx')"
      ],
      "metadata": {
        "id": "mJPa8KFGThVF"
      },
      "execution_count": null,
      "outputs": []
    },
    {
      "cell_type": "code",
      "source": [
        "w=model.get_weights()\n",
        "max(w[0][0])"
      ],
      "metadata": {
        "colab": {
          "base_uri": "https://localhost:8080/"
        },
        "id": "rp5oU_K09RZZ",
        "outputId": "874bbfaa-1e1d-4114-b1fa-8c56eed7037d"
      },
      "execution_count": null,
      "outputs": [
        {
          "output_type": "execute_result",
          "data": {
            "text/plain": [
              "0.21135898"
            ]
          },
          "metadata": {},
          "execution_count": 32
        }
      ]
    },
    {
      "cell_type": "code",
      "source": [
        "from matplotlib.cbook import index_of\n",
        "for R in w[0]:\n",
        "  print(max(R),np.where(R==max(R)))"
      ],
      "metadata": {
        "colab": {
          "base_uri": "https://localhost:8080/"
        },
        "id": "c45lvHtiALbp",
        "outputId": "41d190f4-7c82-41eb-d6cc-d45adcac942f"
      },
      "execution_count": null,
      "outputs": [
        {
          "output_type": "stream",
          "name": "stdout",
          "text": [
            "0.21601078 (array([86]),)\n",
            "0.28401202 (array([0]),)\n",
            "0.36067244 (array([0]),)\n",
            "0.35145232 (array([122]),)\n",
            "0.35886908 (array([30]),)\n",
            "0.29374027 (array([104]),)\n",
            "0.36760184 (array([0]),)\n",
            "0.40646785 (array([122]),)\n",
            "0.38277552 (array([122]),)\n",
            "0.27200192 (array([24]),)\n",
            "0.20668128 (array([109]),)\n",
            "0.35272974 (array([36]),)\n",
            "0.35468614 (array([100]),)\n",
            "0.15286487 (array([54]),)\n",
            "0.38033184 (array([36]),)\n",
            "0.29569498 (array([36]),)\n",
            "0.20139606 (array([14]),)\n",
            "0.15169469 (array([43]),)\n",
            "0.33788452 (array([34]),)\n",
            "0.27652425 (array([36]),)\n",
            "0.27912825 (array([61]),)\n",
            "0.3849145 (array([90]),)\n",
            "0.39366195 (array([0]),)\n",
            "0.34583926 (array([16]),)\n",
            "0.3523929 (array([42]),)\n",
            "0.30128643 (array([122]),)\n",
            "0.378724 (array([69]),)\n",
            "0.36262912 (array([31]),)\n",
            "0.3915171 (array([12]),)\n",
            "0.3752548 (array([1]),)\n",
            "0.3852929 (array([69]),)\n",
            "0.35066164 (array([1]),)\n",
            "0.3503015 (array([84]),)\n",
            "0.28052905 (array([117]),)\n",
            "0.3066261 (array([33]),)\n",
            "0.293678 (array([30]),)\n",
            "0.29169983 (array([69]),)\n",
            "0.31348592 (array([16]),)\n",
            "0.34656572 (array([90]),)\n",
            "0.27635017 (array([82]),)\n",
            "0.356015 (array([23]),)\n",
            "0.25035834 (array([44]),)\n",
            "0.2840633 (array([117]),)\n",
            "0.38060635 (array([90]),)\n",
            "0.30836773 (array([80]),)\n",
            "0.33994702 (array([94]),)\n",
            "0.36693978 (array([14]),)\n",
            "0.271467 (array([122]),)\n",
            "0.33548388 (array([30]),)\n",
            "0.18539426 (array([27]),)\n",
            "0.26524013 (array([31]),)\n",
            "0.28190094 (array([13]),)\n",
            "0.42406362 (array([13]),)\n",
            "0.42638487 (array([71]),)\n",
            "0.35299426 (array([71]),)\n",
            "0.2083231 (array([44]),)\n",
            "0.31873047 (array([82]),)\n",
            "0.31952858 (array([0]),)\n",
            "0.3374128 (array([102]),)\n",
            "0.21770185 (array([42]),)\n",
            "0.38822505 (array([122]),)\n",
            "0.35014072 (array([122]),)\n",
            "0.33714426 (array([75]),)\n",
            "0.35274884 (array([62]),)\n",
            "0.4399428 (array([0]),)\n",
            "0.29080772 (array([122]),)\n",
            "0.31113693 (array([78]),)\n",
            "0.36955866 (array([0]),)\n",
            "0.35720107 (array([0]),)\n",
            "0.32043162 (array([90]),)\n",
            "0.2948239 (array([80]),)\n",
            "0.34424865 (array([0]),)\n",
            "0.31067538 (array([62]),)\n",
            "0.26830047 (array([63]),)\n",
            "0.37222224 (array([122]),)\n",
            "0.36911827 (array([122]),)\n",
            "0.33492962 (array([90]),)\n",
            "0.29578876 (array([23]),)\n",
            "0.42552167 (array([122]),)\n",
            "0.28195247 (array([16]),)\n",
            "0.3499584 (array([75]),)\n",
            "0.34891364 (array([122]),)\n",
            "0.3824175 (array([23]),)\n",
            "0.25839195 (array([82]),)\n",
            "0.33040756 (array([62]),)\n",
            "0.34465513 (array([62]),)\n",
            "0.29740238 (array([90]),)\n",
            "0.41481817 (array([122]),)\n",
            "0.30151117 (array([60]),)\n",
            "0.15312847 (array([7]),)\n",
            "0.15248764 (array([79]),)\n",
            "0.14482215 (array([62]),)\n",
            "0.14979371 (array([78]),)\n",
            "0.15035966 (array([121]),)\n",
            "0.14834127 (array([126]),)\n",
            "0.15002033 (array([77]),)\n",
            "0.15235531 (array([126]),)\n",
            "0.14922935 (array([71]),)\n",
            "0.1528886 (array([17]),)\n",
            "0.15139535 (array([31]),)\n",
            "0.14926231 (array([52]),)\n",
            "0.15005037 (array([113]),)\n",
            "0.1514835 (array([9]),)\n",
            "0.15325502 (array([12]),)\n",
            "0.15293527 (array([31]),)\n",
            "0.1528899 (array([10]),)\n",
            "0.1533742 (array([52]),)\n",
            "0.15304703 (array([117]),)\n",
            "0.15255496 (array([44]),)\n",
            "0.1524719 (array([3]),)\n",
            "0.15145525 (array([110]),)\n",
            "0.14966989 (array([69]),)\n",
            "0.14944607 (array([45]),)\n",
            "0.1510737 (array([40]),)\n",
            "0.14975134 (array([63]),)\n",
            "0.15333474 (array([115]),)\n",
            "0.15221313 (array([124]),)\n",
            "0.1466249 (array([113]),)\n",
            "0.15076274 (array([41]),)\n",
            "0.15064818 (array([54]),)\n",
            "0.15199798 (array([84]),)\n",
            "0.15246436 (array([105]),)\n",
            "0.15154749 (array([69]),)\n",
            "0.15214643 (array([22]),)\n",
            "0.15304154 (array([69]),)\n",
            "0.15193692 (array([43]),)\n",
            "0.1523206 (array([0]),)\n"
          ]
        }
      ]
    },
    {
      "cell_type": "code",
      "source": [
        "w[0][0]"
      ],
      "metadata": {
        "colab": {
          "base_uri": "https://localhost:8080/"
        },
        "id": "nmsXTu4czcqO",
        "outputId": "47cb4c9d-a6a4-4f8e-9d42-4004c8f34757"
      },
      "execution_count": null,
      "outputs": [
        {
          "output_type": "execute_result",
          "data": {
            "text/plain": [
              "array([-0.00739873,  0.00537908,  0.05932947, -0.07525437,  0.03005697,\n",
              "        0.01841636,  0.00739518, -0.07509719, -0.06912001, -0.08770327,\n",
              "       -0.05690207,  0.18713494,  0.15587707, -0.10098557, -0.05031358,\n",
              "        0.0957062 ,  0.09416615, -0.00431714,  0.09642506,  0.03163141,\n",
              "        0.09338363, -0.08236533, -0.07194039, -0.07475359,  0.08664417,\n",
              "       -0.17764919,  0.21108806,  0.06646163, -0.00092231, -0.05362687,\n",
              "        0.01618344,  0.0616838 ,  0.09647993,  0.17215152,  0.09607814,\n",
              "        0.11682981, -0.15461327,  0.09253776, -0.02789067, -0.0015098 ,\n",
              "        0.04666013, -0.00251562,  0.05545789, -0.02542533,  0.02554952,\n",
              "        0.14551872,  0.20547116, -0.01025263,  0.01540572,  0.09102228,\n",
              "       -0.04281523, -0.05519373, -0.05056467, -0.14777705, -0.01823102,\n",
              "       -0.02823852,  0.06077109, -0.01578875,  0.09214527, -0.01572205,\n",
              "        0.12506606, -0.05487274,  0.01888484,  0.0219841 ,  0.04333963,\n",
              "       -0.05136218, -0.03461048, -0.06626432,  0.0539728 ,  0.1648538 ,\n",
              "       -0.07117148,  0.16654302,  0.03048038, -0.08598702,  0.09637517,\n",
              "        0.00037201, -0.09266692, -0.15285824,  0.14705732, -0.02031046,\n",
              "       -0.01812286,  0.07519548, -0.08468636,  0.17466673,  0.21135898,\n",
              "       -0.03573158,  0.09417738, -0.04553888, -0.01219881,  0.14726219,\n",
              "        0.15965438,  0.11265296, -0.0749272 , -0.0055539 ,  0.00090396,\n",
              "       -0.04945488, -0.07757644,  0.09097887, -0.13056818, -0.03083367,\n",
              "        0.0758838 , -0.01119037,  0.08395066, -0.10392361,  0.08328094,\n",
              "        0.08501504, -0.01507495, -0.08116725, -0.06192611,  0.15023644,\n",
              "        0.10417032, -0.05331286,  0.10382608, -0.14198126,  0.12409601,\n",
              "       -0.19824037, -0.0406699 ,  0.00412208,  0.16156211,  0.08348183,\n",
              "        0.03084222, -0.04212202,  0.07862621,  0.14971556,  0.02579512,\n",
              "        0.12787229, -0.09650065,  0.02297655], dtype=float32)"
            ]
          },
          "metadata": {},
          "execution_count": 37
        }
      ]
    },
    {
      "cell_type": "markdown",
      "metadata": {
        "id": "kqee4iO3CiZm"
      },
      
    }
  ]
}
